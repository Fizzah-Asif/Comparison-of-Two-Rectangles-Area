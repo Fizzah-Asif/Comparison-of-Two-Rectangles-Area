{
 "cells": [
  {
   "cell_type": "code",
   "execution_count": 2,
   "id": "386851d2",
   "metadata": {},
   "outputs": [
    {
     "name": "stdout",
     "output_type": "stream",
     "text": [
      "Rectangle 1:-\n",
      "-----------\n",
      "Enter width:1\n",
      "Enter length:3\n",
      "  \n",
      "Rectangle 2:-\n",
      "-----------\n",
      "Enter width:3\n",
      "Enter length:1\n",
      "  \n",
      "Area of Rectangle 1 is equal to Area of Rectangle 2.\n"
     ]
    }
   ],
   "source": [
    "print(\"Rectangle 1:-\")\n",
    "print(\"-----------\")\n",
    "a = int(input(\"Enter width:\"))\n",
    "b = int(input(\"Enter length:\"))\n",
    "print(\"  \")\n",
    "print(\"Rectangle 2:-\")\n",
    "print(\"-----------\")\n",
    "x = int(input(\"Enter width:\"))\n",
    "y = int(input(\"Enter length:\"))\n",
    "print(\"  \")\n",
    "if x*y > a*b:\n",
    "    print(\"Area of Rectangle 2 is greater than Area of Rectangle 1.\")\n",
    "elif x*y < a*b:\n",
    "        print(\"Area of Rectangle 1 is greater than Area of Rectangle 2.\")\n",
    "else:\n",
    "        print(\"Area of Rectangle 1 is equal to Area of Rectangle 2.\")"
   ]
  },
  {
   "cell_type": "code",
   "execution_count": null,
   "id": "52d6efd4",
   "metadata": {},
   "outputs": [],
   "source": []
  }
 ],
 "metadata": {
  "kernelspec": {
   "display_name": "Python 3 (ipykernel)",
   "language": "python",
   "name": "python3"
  },
  "language_info": {
   "codemirror_mode": {
    "name": "ipython",
    "version": 3
   },
   "file_extension": ".py",
   "mimetype": "text/x-python",
   "name": "python",
   "nbconvert_exporter": "python",
   "pygments_lexer": "ipython3",
   "version": "3.9.7"
  }
 },
 "nbformat": 4,
 "nbformat_minor": 5
}
